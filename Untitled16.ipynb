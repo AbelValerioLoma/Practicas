{
  "nbformat": 4,
  "nbformat_minor": 0,
  "metadata": {
    "colab": {
      "provenance": [],
      "authorship_tag": "ABX9TyMEgoxnp9nkNX8ArboBiedv",
      "include_colab_link": true
    },
    "kernelspec": {
      "name": "python3",
      "display_name": "Python 3"
    },
    "language_info": {
      "name": "python"
    }
  },
  "cells": [
    {
      "cell_type": "markdown",
      "metadata": {
        "id": "view-in-github",
        "colab_type": "text"
      },
      "source": [
        "<a href=\"https://colab.research.google.com/github/AbelValerioLoma/Practicas/blob/main/Untitled16.ipynb\" target=\"_parent\"><img src=\"https://colab.research.google.com/assets/colab-badge.svg\" alt=\"Open In Colab\"/></a>"
      ]
    },
    {
      "cell_type": "code",
      "execution_count": 2,
      "metadata": {
        "colab": {
          "base_uri": "https://localhost:8080/"
        },
        "id": "wLfGxbQZYquV",
        "outputId": "642dffdc-bc9e-4e64-f8d2-5953b0c52a79"
      },
      "outputs": [
        {
          "output_type": "stream",
          "name": "stdout",
          "text": [
            "¿De qué color es una naranja? naranja\n",
            "\n",
            "¡Ganaste!\n"
          ]
        }
      ],
      "source": [
        "def jugar(intento=1):\n",
        "    respuesta = input(\"¿De qué color es una naranja? \")\n",
        "    if respuesta != \"naranja\":\n",
        "        if intento < 3:\n",
        "            print(\"\\nFallaste, inténtelo de nuevo\")\n",
        "            intento += 1\n",
        "            jugar(intento)  # llamada recursiva\n",
        "        else:\n",
        "            print(\"\\nPerdiste.\")\n",
        "    else:\n",
        "        print(\"\\n¡Ganaste!\")\n",
        "\n",
        "jugar()\n"
      ]
    }
  ]
}