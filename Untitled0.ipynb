{
  "nbformat": 4,
  "nbformat_minor": 0,
  "metadata": {
    "colab": {
      "provenance": [],
      "authorship_tag": "ABX9TyOWexIXuTB0fEtkS1J5O9ZZ",
      "include_colab_link": true
    },
    "kernelspec": {
      "name": "python3",
      "display_name": "Python 3"
    },
    "language_info": {
      "name": "python"
    }
  },
  "cells": [
    {
      "cell_type": "markdown",
      "metadata": {
        "id": "view-in-github",
        "colab_type": "text"
      },
      "source": [
        "<a href=\"https://colab.research.google.com/github/AbelValerioLoma/Practicas/blob/main/Untitled0.ipynb\" target=\"_parent\"><img src=\"https://colab.research.google.com/assets/colab-badge.svg\" alt=\"Open In Colab\"/></a>"
      ]
    },
    {
      "cell_type": "code",
      "execution_count": null,
      "metadata": {
        "id": "G8XZbV3cHOm7"
      },
      "outputs": [],
      "source": [
        "nombre = input(\"¿como se llama?\")\n"
      ]
    },
    {
      "cell_type": "code",
      "source": [
        "nombres = []\n",
        "while True:\n",
        "  nombre = input(\"Ingresa tu nombre o escribe salir para terminar\")\n",
        "  if nombre.lower() == salir:\n",
        "    break\n",
        "    nombre.append(nombre)\n",
        "\n",
        "    print(\"los nombres ingresados son:\", nombres)"
      ],
      "metadata": {
        "colab": {
          "base_uri": "https://localhost:8080/"
        },
        "id": "XP4cEPUGVHjf",
        "outputId": "104cdf77-b096-43a3-e1fd-e0550a6970e1"
      },
      "execution_count": 3,
      "outputs": [
        {
          "name": "stdout",
          "output_type": "stream",
          "text": [
            "Ingresa tu nombre o escribe salir para terminarmiguel\n"
          ]
        }
      ]
    },
    {
      "cell_type": "code",
      "source": [],
      "metadata": {
        "id": "lXLqh9nVVWzY"
      },
      "execution_count": null,
      "outputs": []
    }
  ]
}