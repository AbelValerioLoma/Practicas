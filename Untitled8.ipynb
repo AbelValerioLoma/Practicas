{
  "nbformat": 4,
  "nbformat_minor": 0,
  "metadata": {
    "colab": {
      "provenance": [],
      "authorship_tag": "ABX9TyOIR/7NOLPaMvyxDTxNtK7r",
      "include_colab_link": true
    },
    "kernelspec": {
      "name": "python3",
      "display_name": "Python 3"
    },
    "language_info": {
      "name": "python"
    }
  },
  "cells": [
    {
      "cell_type": "markdown",
      "metadata": {
        "id": "view-in-github",
        "colab_type": "text"
      },
      "source": [
        "<a href=\"https://colab.research.google.com/github/AbelValerioLoma/Practicas/blob/main/Untitled8.ipynb\" target=\"_parent\"><img src=\"https://colab.research.google.com/assets/colab-badge.svg\" alt=\"Open In Colab\"/></a>"
      ]
    },
    {
      "cell_type": "code",
      "execution_count": 21,
      "metadata": {
        "colab": {
          "base_uri": "https://localhost:8080/",
          "height": 140
        },
        "id": "HMoBBaVbLE3N",
        "outputId": "d923f42a-81f9-4d32-d018-5c5d3d5f5758"
      },
      "outputs": [
        {
          "output_type": "error",
          "ename": "SyntaxError",
          "evalue": "ignored",
          "traceback": [
            "\u001b[0;36m  File \u001b[0;32m\"<ipython-input-21-2e4057e8ed07>\"\u001b[0;36m, line \u001b[0;32m14\u001b[0m\n\u001b[0;31m    if opcion = \"1\":\u001b[0m\n\u001b[0m       ^\u001b[0m\n\u001b[0;31mSyntaxError\u001b[0m\u001b[0;31m:\u001b[0m invalid syntax. Maybe you meant '==' or ':=' instead of '='?\n"
          ]
        }
      ],
      "source": [
        "comidas = [\"Pizza\", \"Hamburguesa\", \"Sushi\", \"Ensalada\", \"Tacos\"]\n",
        "bebidas = [\"agua\", \"refresco\", \"agua de jamaica\", \"agua de sandia\",]\n",
        "\n",
        "alumnos = []\n",
        "\n",
        "while True:\n",
        "  print(\"1. capturar alumnos\")\n",
        "  print(\"2. generar pedido\")\n",
        "  print(\"3. imprimir todo\")\n",
        "  print(\"4. salir\")\n",
        "\n",
        "  opcion = input(\"seleccionar una opcion\")\n",
        "\n",
        "  if opcion = \"1\":\n",
        "    nombre_alumno = input(\"ingresa el nombre del alumno: \")\n",
        "    alumnos.append(nombre_alumno)\n",
        "    print(\"alumno {nombre_alumno} registrado.\")\n",
        "  elif opcion == \"2\":\n",
        "    if alumnos:\n",
        "      print(\"comida disponible\")\n",
        "      for i\n",
        "\n",
        "\n"
      ]
    }
  ]
}